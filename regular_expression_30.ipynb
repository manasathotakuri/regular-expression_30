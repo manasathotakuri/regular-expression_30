{
  "nbformat": 4,
  "nbformat_minor": 0,
  "metadata": {
    "colab": {
      "provenance": []
    },
    "kernelspec": {
      "name": "python3",
      "display_name": "Python 3"
    },
    "language_info": {
      "name": "python"
    }
  },
  "cells": [
    {
      "cell_type": "code",
      "source": [
        "'''1.Write a Python program to check that a string contains only a certain set of characters (in this case A-P\n",
        "and 5-9)'''\n",
        "import re\n",
        "def check_string(n):\n",
        "  rn = r'^[A-P-p5-9]+$'\n",
        "  if re.fullmatch(rn, n):\n",
        "    return (\"GOOD string\")\n",
        "  else:\n",
        "    return (\"BAD string\")\n",
        "print(check_string(\"ABCP579\"))\n",
        "print(check_string(\"ABQ579\"))\n",
        "print(check_string(\"A9P\"))\n",
        "print(check_string(\"a5P\"))"
      ],
      "metadata": {
        "id": "G5vdEcpNEtBG",
        "colab": {
          "base_uri": "https://localhost:8080/"
        },
        "outputId": "4e392b95-e782-4337-eda1-2069a027b4e1"
      },
      "execution_count": null,
      "outputs": [
        {
          "output_type": "stream",
          "name": "stdout",
          "text": [
            "GOOD string\n",
            "BAD string\n",
            "GOOD string\n",
            "BAD string\n"
          ]
        }
      ]
    },
    {
      "cell_type": "code",
      "source": [
        "'''2.Write a Python program that matches a string that has an ‘a’ followed by zero or more k's'''\n",
        "import re\n",
        "def match_ak(str1):\n",
        "        ak = 'a(k*)'\n",
        "        if re.search(ak,str1):\n",
        "          return (\"Match Found\")\n",
        "        else:\n",
        "          return (\"No Match\")\n",
        "print(match_ak(\"a\"))\n",
        "print(match_ak(\"ak\"))\n",
        "print(match_ak(\"akkk\"))\n",
        "print(match_ak(\"b\"))\n",
        "print(match_ak(\"akkp\"))"
      ],
      "metadata": {
        "id": "MSKIcxj5072Z",
        "colab": {
          "base_uri": "https://localhost:8080/"
        },
        "outputId": "0b46356a-c850-4df6-ff48-f79eb023af7f"
      },
      "execution_count": null,
      "outputs": [
        {
          "output_type": "stream",
          "name": "stdout",
          "text": [
            "Match Found\n",
            "Match Found\n",
            "Match Found\n",
            "No Match\n",
            "Match Found\n"
          ]
        }
      ]
    },
    {
      "cell_type": "code",
      "source": [
        "\n",
        "'''3.Write a Python program that matches a string that has an ‘a’ followed by one or more p's'''\n",
        "import re\n",
        "def match_app(str1):\n",
        "        ak = 'ap(p*)'\n",
        "        if re.search(ak,str1):\n",
        "          return (\"Match Found\")\n",
        "        else:\n",
        "          return (\"No Match\")\n",
        "print(match_app(\"ap\"))\n",
        "print(match_app(\"appp\"))\n",
        "print(match_app(\"a\"))"
      ],
      "metadata": {
        "id": "iV3TBBnN0_3E",
        "colab": {
          "base_uri": "https://localhost:8080/"
        },
        "outputId": "bd6e770b-4631-463a-a101-8d17545ecefc"
      },
      "execution_count": null,
      "outputs": [
        {
          "output_type": "stream",
          "name": "stdout",
          "text": [
            "Match Found\n",
            "Match Found\n",
            "No Match\n"
          ]
        }
      ]
    },
    {
      "cell_type": "code",
      "source": [
        "'''4.Write a Python program that matches a string that has an ‘a’ followed by zero or one z's'''\n",
        "import re\n",
        "def match_az(str1):\n",
        "        az = 'a(z?)'\n",
        "        if re.search(az,str1):\n",
        "          return (\"Match Found\")\n",
        "        else:\n",
        "          return (\"No Match\")\n",
        "print(match_az(\"a\"))\n",
        "print(match_az(\"az\"))\n",
        "print(match_az(\"azz\"))"
      ],
      "metadata": {
        "id": "ZiprbLdc1EpD",
        "colab": {
          "base_uri": "https://localhost:8080/"
        },
        "outputId": "2cf4fbf4-7d4c-4fa7-8421-0690912ae509"
      },
      "execution_count": null,
      "outputs": [
        {
          "output_type": "stream",
          "name": "stdout",
          "text": [
            "Match Found\n",
            "Match Found\n",
            "Match Found\n"
          ]
        }
      ]
    },
    {
      "cell_type": "code",
      "source": [
        "'''5.Write a Python program that matches a string that has an 'a' followed by anything, ending in 'a'.'''\n",
        "import re\n",
        "def match_a_anything_a(text):\n",
        "    pattern = r\"a.*a$\"\n",
        "    match = re.match(pattern, text)\n",
        "    if match:\n",
        "        return \"Match Found\"\n",
        "    else:\n",
        "        return \"No Match\"\n",
        "print(match_a_anything_a(\"abcda\"))\n",
        "print(match_a_anything_a(\"a123a\"))\n",
        "print(match_a_anything_a(\"a\"))\n",
        "print(match_a_anything_a(\"ab\"))"
      ],
      "metadata": {
        "id": "L_m-CRR12amu",
        "colab": {
          "base_uri": "https://localhost:8080/"
        },
        "outputId": "cd54da2d-9b61-48a8-f5bc-0a1f4a13727c"
      },
      "execution_count": null,
      "outputs": [
        {
          "output_type": "stream",
          "name": "stdout",
          "text": [
            "Match Found\n",
            "Match Found\n",
            "No Match\n",
            "No Match\n"
          ]
        }
      ]
    },
    {
      "cell_type": "code",
      "source": [
        "'''6.Write a python program that matches string that has an 'a' followed by two to three 'b'''\n",
        "import re\n",
        "def match_abb(text):\n",
        "    pattern = r\"ab{2,3}\"\n",
        "    match = re.search(pattern, text)\n",
        "    if match:\n",
        "        return \"Match Found\"\n",
        "    else:\n",
        "        return \"No Match\"\n",
        "print(match_abb(\"abb\"))\n",
        "print(match_abb(\"abbb\"))\n",
        "print(match_abb(\"ab\"))"
      ],
      "metadata": {
        "id": "qa-Bmm162pc3",
        "colab": {
          "base_uri": "https://localhost:8080/"
        },
        "outputId": "3ffc9871-b0c9-45d9-e2e9-0006c0ba2d2b"
      },
      "execution_count": null,
      "outputs": [
        {
          "output_type": "stream",
          "name": "stdout",
          "text": [
            "Match Found\n",
            "Match Found\n",
            "No Match\n"
          ]
        }
      ]
    },
    {
      "cell_type": "code",
      "source": [
        "'''7.Write a python program that matches string that has an 'a' followed by 3 'h' only not 4'''\n",
        "import re\n",
        "def match_ahh(text):\n",
        "    pattern = r\"ah{3}\"\n",
        "    match = re.search(pattern, text)\n",
        "    if match:\n",
        "        return \"Match Found\"\n",
        "    else:\n",
        "        return \"No Match\"\n",
        "print(match_ahh(\"ahhh\"))\n",
        "print(match_ahh(\"ahh\"))\n",
        "print(match_ahh(\"ahhhh\"))\n"
      ],
      "metadata": {
        "id": "JYcprvoH20XJ",
        "colab": {
          "base_uri": "https://localhost:8080/"
        },
        "outputId": "45647d0f-fe64-448a-ced7-2bfc7654f059"
      },
      "execution_count": null,
      "outputs": [
        {
          "output_type": "stream",
          "name": "stdout",
          "text": [
            "Match Found\n",
            "No Match\n",
            "Match Found\n"
          ]
        }
      ]
    },
    {
      "cell_type": "code",
      "source": [
        "'''8.Write a Python program to find sequences of lowercase letters joined with an underscore.'''\n",
        "import re\n",
        "def extract_lowercase_underscore(text):\n",
        "    pattern = r\"[a-z]+_[a-z]+\"\n",
        "    match = re.search(pattern, text)\n",
        "    if match:\n",
        "        return \"Match Found\"\n",
        "    else:\n",
        "        return \"No Match\"\n",
        "print(extract_lowercase_underscore(\"hello_world\"))\n",
        "print(extract_lowercase_underscore(\"HELLO_world\"))\n",
        "print(extract_lowercase_underscore(\"hi_SARA\"))\n",
        "print(extract_lowercase_underscore(\"hi sara\"))\n",
        "print(extract_lowercase_underscore(\"cse_e\"))"
      ],
      "metadata": {
        "id": "Mn6IwXc_28vU",
        "colab": {
          "base_uri": "https://localhost:8080/"
        },
        "outputId": "d0f2998a-63c7-46fe-c741-f3eb1a3e4e26"
      },
      "execution_count": null,
      "outputs": [
        {
          "output_type": "stream",
          "name": "stdout",
          "text": [
            "Match Found\n",
            "No Match\n",
            "No Match\n",
            "No Match\n",
            "Match Found\n"
          ]
        }
      ]
    },
    {
      "cell_type": "code",
      "source": [
        "'''9. Write a Python program to find the sequences of one upper case letter followed by lower case letters. '''\n",
        "import re\n",
        "def match_upper_lower(text):\n",
        "    pattern = r\"[A-Z][a-z]+\"\n",
        "    match = re.search(pattern, text)\n",
        "    if match:\n",
        "        return \"Match Found\"\n",
        "    else:\n",
        "        return \"No Match\"\n",
        "print(match_upper_lower(\"Hello\"))\n",
        "print(match_upper_lower(\"hello\"))\n",
        "print(match_upper_lower(\"HELLO\"))"
      ],
      "metadata": {
        "id": "7Ymqtz4c2-bo",
        "colab": {
          "base_uri": "https://localhost:8080/"
        },
        "outputId": "9dcf78e9-dd9c-430a-b517-0468df07a6bd"
      },
      "execution_count": null,
      "outputs": [
        {
          "output_type": "stream",
          "name": "stdout",
          "text": [
            "Match Found\n",
            "No Match\n",
            "No Match\n"
          ]
        }
      ]
    },
    {
      "cell_type": "code",
      "source": [
        "#10.Write a Python program that matches a string that has an 'a' followed by anything, ending in 'a'.\n",
        "import re\n",
        "def match_a_anything_a(text):\n",
        "    pattern = r\"a.*a$\"\n",
        "    match = re.match(pattern, text)\n",
        "    if match:\n",
        "        return \"Match Found\"\n",
        "    else:\n",
        "        return \"No Match\"\n",
        "print(match_a_anything_a(\"abcda\"))\n",
        "print(match_a_anything_a(\"a123a\"))\n",
        "print(match_a_anything_a(\"a\"))\n",
        "print(match_a_anything_a(\"ab\"))\n"
      ],
      "metadata": {
        "id": "ohzxfsXp3Jk8",
        "colab": {
          "base_uri": "https://localhost:8080/"
        },
        "outputId": "21d0e79b-6984-44a3-e4a1-c339b0fc93c3"
      },
      "execution_count": null,
      "outputs": [
        {
          "output_type": "stream",
          "name": "stdout",
          "text": [
            "Match Found\n",
            "Match Found\n",
            "No Match\n",
            "No Match\n"
          ]
        }
      ]
    },
    {
      "cell_type": "code",
      "source": [
        "'''11.Write a Python program that matches only words made of letters and numbers at the end of a string'''\n",
        "import re\n",
        "def match_word_end(s):\n",
        "  p=r\"[a-zA-Z0-9]+$\"\n",
        "  if re.search(p,s):\n",
        "    return (\"Match Found\")\n",
        "  else:\n",
        "    return (\"No match\")\n",
        "print(match_word_end(\"Hello world\"))\n",
        "print(match_word_end(\"12345\"))\n",
        "print(match_word_end(\"Done!\"))"
      ],
      "metadata": {
        "id": "-Be24AgQ3Yek",
        "colab": {
          "base_uri": "https://localhost:8080/"
        },
        "outputId": "61c146f5-6891-4d58-9c78-b397f8dd88c1"
      },
      "execution_count": null,
      "outputs": [
        {
          "output_type": "stream",
          "name": "stdout",
          "text": [
            "Match Found\n",
            "Match Found\n",
            "No match\n"
          ]
        }
      ]
    },
    {
      "cell_type": "code",
      "source": [
        "'''12.Write a Python program that matches a word containing 'z'''\n",
        "import re\n",
        "def match_word_z(s):\n",
        "  p=r\"[z]\"\n",
        "  if re.findall(p,s):\n",
        "    return s\n",
        "  else:\n",
        "    return (\"(empty)\")\n",
        "print(match_word_z(\"buzzing bee\"))\n",
        "print(match_word_z(\"hello world\"))\n",
        "print(match_word_z(\"zebra\"))"
      ],
      "metadata": {
        "id": "DoukMiN13aXG",
        "colab": {
          "base_uri": "https://localhost:8080/"
        },
        "outputId": "e4af181a-1d8b-49b8-f929-ead8b872db4a"
      },
      "execution_count": null,
      "outputs": [
        {
          "output_type": "stream",
          "name": "stdout",
          "text": [
            "buzzing bee\n",
            "(empty)\n",
            "zebra\n"
          ]
        }
      ]
    },
    {
      "cell_type": "code",
      "source": [
        "'''13.Write a Python program that matches a word containing 'i', not at start not at the end of the string.'''\n",
        "import re\n",
        "def match_i_not_start_end(s):\n",
        "    pattern = r\"^[a-z]+i[a-z]+$\"\n",
        "    words = s.split()\n",
        "    for word in words:\n",
        "        if re.match(pattern, word):\n",
        "            return s\n",
        "    return \"(empty)\"\n",
        "print(match_i_not_start_end(\"driving fast\"))\n",
        "print(match_i_not_start_end(\"ice cream\"))\n",
        "print(match_i_not_start_end(\"hi hello\"))"
      ],
      "metadata": {
        "id": "KXKiw2vR3bGB",
        "colab": {
          "base_uri": "https://localhost:8080/"
        },
        "outputId": "c3a4d192-0243-4cb4-b561-38460e1a6684"
      },
      "execution_count": null,
      "outputs": [
        {
          "output_type": "stream",
          "name": "stdout",
          "text": [
            "driving fast\n",
            "(empty)\n",
            "(empty)\n"
          ]
        }
      ]
    },
    {
      "cell_type": "code",
      "source": [
        "'''14.Write a Python program to match a string that contains upper and lowercase letters, numbers and underscore only'''\n",
        "import re\n",
        "def match_alnum_underscore(s):\n",
        "  p=r'^[a-zA-Z0-9]+_[a-zA-Z0-9]+$'\n",
        "  if re.findall(p,s):\n",
        "    return s\n",
        "  else:\n",
        "    return (\"(empty)\")\n",
        "print(match_alnum_underscore(\"valid_name123\"))\n",
        "print(match_alnum_underscore(\"!invalid_name\"))"
      ],
      "metadata": {
        "id": "g-daGoaY3uXR",
        "colab": {
          "base_uri": "https://localhost:8080/"
        },
        "outputId": "d4af7414-69e0-4dad-9039-421215e08e74"
      },
      "execution_count": null,
      "outputs": [
        {
          "output_type": "stream",
          "name": "stdout",
          "text": [
            "valid_name123\n",
            "(empty)\n"
          ]
        }
      ]
    },
    {
      "cell_type": "code",
      "source": [
        "'''15.Write a Python program that starts with 8'''\n",
        "import re\n",
        "def s8(s):\n",
        "  p=r'^8'\n",
        "  if re.match(p,s):\n",
        "    return \"Starts with 8\"\n",
        "  else:\n",
        "    return \"Does not start with 8\"\n",
        "print(s8(\"8hello\"))\n",
        "print(s8(\"hello\"))"
      ],
      "metadata": {
        "id": "AsAD_zT24HFb",
        "colab": {
          "base_uri": "https://localhost:8080/"
        },
        "outputId": "f8c461c5-968b-44a0-b498-db7b10e03008"
      },
      "execution_count": null,
      "outputs": [
        {
          "output_type": "stream",
          "name": "stdout",
          "text": [
            "Starts with 8\n",
            "Does not start with 8\n"
          ]
        }
      ]
    },
    {
      "cell_type": "code",
      "source": [
        "'''16.Write a Python program to remove leading zeros from an IP address.'''\n",
        "import re\n",
        "def remove_leading_zeros(ip):\n",
        "    return re.sub(r'\\b0+(\\d)', r'\\1', ip)\n",
        "print(remove_leading_zeros(\"192.168.001.001\"))\n",
        "print(remove_leading_zeros(\"127.000.000.001\"))\n",
        "print(remove_leading_zeros(\"010.000.100.050\"))"
      ],
      "metadata": {
        "id": "RJgvOOzi4Ktn",
        "colab": {
          "base_uri": "https://localhost:8080/"
        },
        "outputId": "2ed6ef8d-4302-43e4-e4a4-77a34eaeb5d2"
      },
      "execution_count": null,
      "outputs": [
        {
          "output_type": "stream",
          "name": "stdout",
          "text": [
            "192.168.1.1\n",
            "127.0.0.1\n",
            "10.0.100.50\n"
          ]
        }
      ]
    },
    {
      "cell_type": "code",
      "source": [
        "'''17.Write a Python program to check for an underscore at the end of a string.'''\n",
        "import re\n",
        "def us(s):\n",
        "  p=r\"[_]$\"\n",
        "  if re.search(p,s):\n",
        "    return(\"Ends with underscore\")\n",
        "  else:\n",
        "    return(\"Does not end with underscore\")\n",
        "print(us(\"Date_\"))\n",
        "print(us(\"Day\"))\n",
        "print(us(\"Month_\"))\n",
        "print(us(\"Year!\"))\n"
      ],
      "metadata": {
        "id": "s11d4IzV4OlQ",
        "colab": {
          "base_uri": "https://localhost:8080/"
        },
        "outputId": "d1063e27-cb2f-4c26-a3a0-2c3561af544f"
      },
      "execution_count": null,
      "outputs": [
        {
          "output_type": "stream",
          "name": "stdout",
          "text": [
            "Ends with underscore\n",
            "Does not end with underscore\n",
            "Ends with underscore\n",
            "Does not end with underscore\n"
          ]
        }
      ]
    },
    {
      "cell_type": "code",
      "source": [
        "'''18.Write a Python program to search the numbers(0-9) of length between 1 to 3 for a given string.'''\n",
        "import re\n",
        "def find_numbers_1_to_3_digits(s):\n",
        "    pattern = r'\\b\\d{1,3}\\b'\n",
        "    return re.findall(pattern, s)\n",
        "print(find_numbers_1_to_3_digits(\"My numbers are 7, 45, 123, and 4567.\"))\n",
        "print(find_numbers_1_to_3_digits(\"Code 004 and 009 are errors, but 9999 is fine.\"))\n",
        "print(find_numbers_1_to_3_digits(\"No numbers here.\"))"
      ],
      "metadata": {
        "id": "b3zThqm-4SEf",
        "colab": {
          "base_uri": "https://localhost:8080/"
        },
        "outputId": "03dfaa5e-1275-483e-9b4c-91a9901618eb"
      },
      "execution_count": null,
      "outputs": [
        {
          "output_type": "stream",
          "name": "stdout",
          "text": [
            "['7', '45', '123']\n",
            "['004', '009']\n",
            "[]\n"
          ]
        }
      ]
    },
    {
      "cell_type": "code",
      "source": [
        "'''19. Write a Python program to search a set of strings in a given string. Sample text : 'Flowers are among the ecosystem’s most important and beautiful parts.\n",
        "My favourite flower is the rose amongst all the other flowers! A red rose is the most attractive flower to look at. The name of the flower ‘rose’ originates from\n",
        "the Latin word ‘Rosa’.' Searched for words : 'flower', ‘rose’. '''\n",
        "import re\n",
        "\n",
        "def search_words(text, words):\n",
        "    pattern = r'\\b(?:' + '|'.join(words) + r')\\b'\n",
        "    matches = re.findall(pattern, text, re.IGNORECASE)\n",
        "    return matches\n",
        "text = 'Flowers are among the ecosystem’s most important and beautiful parts. My favourite flower is the rose amongst all the other flowers! A red rose is the most attractive flower to look at. The name of the flower ‘rose’ originates from the Latin word ‘Rosa’.'\n",
        "words_to_search = ['flower', 'rose']\n",
        "found_words = search_words(text, words_to_search)\n",
        "print(\"Matched words:\", found_words)\n",
        "print(\"Count:\", len(found_words))\n"
      ],
      "metadata": {
        "id": "Vx8EqyEf40RA",
        "colab": {
          "base_uri": "https://localhost:8080/"
        },
        "outputId": "05f09d79-8a88-466e-d425-8ce1b347e794"
      },
      "execution_count": null,
      "outputs": [
        {
          "output_type": "stream",
          "name": "stdout",
          "text": [
            "Matched words: ['flower', 'rose', 'rose', 'flower', 'flower', 'rose']\n",
            "Count: 6\n"
          ]
        }
      ]
    },
    {
      "cell_type": "code",
      "source": [
        "''' 20.Write a Python program to search a literals string in a string and also find the location within the original string where the pattern occurs.\n",
        "Sample text : 'Flowers are among the ecosystem’s most important and beautiful parts. My favourite flower is the rose amongst all the other flowers!\n",
        "A red rose is the most attractive flower to look at. The name of the flower ‘rose’ originates from the Latin word ‘Rosa’.' Searched for word :‘rose’.'''\n",
        "import re\n",
        "def find_word_locations(text, word):\n",
        "    pattern = r'\\b' + re.escape(word) + r'\\b'\n",
        "    matches = re.finditer(pattern, text, re.IGNORECASE)\n",
        "\n",
        "    result = []\n",
        "    for match in matches:\n",
        "        result.append({\n",
        "            'word': match.group(),\n",
        "            'start': match.start(),\n",
        "            'end': match.end()\n",
        "        })\n",
        "    return result\n",
        "results = find_word_locations(text, 'rose')\n",
        "for entry in results:\n",
        "    print(entry)"
      ],
      "metadata": {
        "id": "j4nkUrNa4ci2",
        "colab": {
          "base_uri": "https://localhost:8080/"
        },
        "outputId": "cc351873-c414-477d-c2b6-5d09133ac6a2"
      },
      "execution_count": null,
      "outputs": [
        {
          "output_type": "stream",
          "name": "stdout",
          "text": [
            "{'word': 'rose', 'start': 97, 'end': 101}\n",
            "{'word': 'rose', 'start': 139, 'end': 143}\n",
            "{'word': 'rose', 'start': 210, 'end': 214}\n"
          ]
        }
      ]
    },
    {
      "cell_type": "code",
      "source": [
        "'''21.Write a Python program to find the substrings within a string. Sample text :'Python exercises, C exercises, Java exercises' Pattern : 'exercises'''\n",
        "import re\n",
        "def find_substrings(text, pattern):\n",
        "    return re.findall(pattern, text, re.IGNORECASE)\n",
        "\n",
        "text = 'Python exercises, C exercises, Java exercises'\n",
        "pattern = 'exercises'\n",
        "results = find_substrings(text, pattern)\n",
        "print(results)"
      ],
      "metadata": {
        "id": "9YlW5Psx47gk",
        "colab": {
          "base_uri": "https://localhost:8080/"
        },
        "outputId": "0fd06f4f-e569-4bed-95c0-d9addb872592"
      },
      "execution_count": null,
      "outputs": [
        {
          "output_type": "stream",
          "name": "stdout",
          "text": [
            "['exercises', 'exercises', 'exercises']\n"
          ]
        }
      ]
    },
    {
      "cell_type": "code",
      "source": [
        "'''22.Write a Python program to find the occurrence and starting position of the substrings within a string.'''\n",
        "import re\n",
        "\n",
        "def find_occurrences(text, pattern):\n",
        "    matches = re.finditer(re.escape(pattern), text, re.IGNORECASE)\n",
        "    result = {}\n",
        "    for i, match in enumerate(matches, start=1):\n",
        "        result[f\"occurrence_{i}\"] = {'match': match.group(), 'start': match.start()}\n",
        "    return result\n",
        "\n",
        "text = 'Python exercises, C exercises, Java exercises'\n",
        "pattern = 'exercises'\n",
        "results = find_occurrences(text, pattern)\n",
        "print(results)"
      ],
      "metadata": {
        "id": "XMiC6s_x5AS1",
        "colab": {
          "base_uri": "https://localhost:8080/"
        },
        "outputId": "20ee0278-be17-4831-dc2d-06835dd60a8c"
      },
      "execution_count": null,
      "outputs": [
        {
          "output_type": "stream",
          "name": "stdout",
          "text": [
            "{'occurrence_1': {'match': 'exercises', 'start': 7}, 'occurrence_2': {'match': 'exercises', 'start': 20}, 'occurrence_3': {'match': 'exercises', 'start': 36}}\n"
          ]
        }
      ]
    },
    {
      "cell_type": "code",
      "source": [
        "'''23.Write a Python program to replace whitespaces with an underscore and viceversa'''\n",
        "import re\n",
        "\n",
        "def replace_whitespace_and_underscore(text, mode='space_to_underscore'):\n",
        "    if mode == 'space_to_underscore':\n",
        "        return re.sub(r'\\s+', '_', text)\n",
        "    elif mode == 'underscore_to_space':\n",
        "        return re.sub(r'_+', ' ', text)\n",
        "    else:\n",
        "        return \"Invalid mode. Use 'space_to_underscore' or 'underscore_to_space'.\"\n",
        "\n",
        "text1 = \"This is a sample text\"\n",
        "text2 = \"This_is_a_sample_text\"\n",
        "\n",
        "print(replace_whitespace_and_underscore(text1, 'space_to_underscore'))\n",
        "print(replace_whitespace_and_underscore(text2, 'underscore_to_space'))"
      ],
      "metadata": {
        "id": "O70RVObj5HTS",
        "colab": {
          "base_uri": "https://localhost:8080/"
        },
        "outputId": "6f029833-225b-48bf-de56-c6824fe81aa5"
      },
      "execution_count": null,
      "outputs": [
        {
          "output_type": "stream",
          "name": "stdout",
          "text": [
            "This_is_a_sample_text\n",
            "This is a sample text\n"
          ]
        }
      ]
    },
    {
      "cell_type": "code",
      "source": [
        "'''24.Write a python program to extract domain names from an url'''\n",
        "import re\n",
        "\n",
        "def extract_domain(url):\n",
        "    # This pattern captures domain name after http:// or https:// and optional www.\n",
        "    pattern = r'https?://(?:www\\.)?([^/]+)'\n",
        "    match = re.search(pattern, url)\n",
        "    if match:\n",
        "        return match.group(1)\n",
        "    else:\n",
        "        return \"No domain found\"\n",
        "\n",
        "# Sample usage\n",
        "urls = [\n",
        "    \"https://www.google.com/search\",\n",
        "    \"http://example.org/about\",\n",
        "]\n",
        "\n",
        "for url in urls:\n",
        "    print(f\"{url} → {extract_domain(url)}\")"
      ],
      "metadata": {
        "id": "4CfCT7GZ5WTo",
        "colab": {
          "base_uri": "https://localhost:8080/"
        },
        "outputId": "9b297b1d-f471-4ec8-8e2b-8ceff4316cbc"
      },
      "execution_count": null,
      "outputs": [
        {
          "output_type": "stream",
          "name": "stdout",
          "text": [
            "https://www.google.com/search → google.com\n",
            "http://example.org/about → example.org\n"
          ]
        }
      ]
    },
    {
      "cell_type": "code",
      "source": [
        "'''25.Write a Python program to convert a date of dd-mm-yyyy format of yyyy-mm-dd format.'''\n",
        "import re\n",
        "\n",
        "def convert_date_format(date_str):\n",
        "    pattern = r'^(\\d{2})-(\\d{2})-(\\d{4})$'\n",
        "    match = re.match(pattern, date_str)\n",
        "    if match:\n",
        "        day, month, year = match.groups()\n",
        "        return f\"{year}-{month}-{day}\"\n",
        "    else:\n",
        "        return \"Invalid date format\"\n",
        "\n",
        "dates = [\n",
        "    \"06-05-2025\",\n",
        "    \"31-12-1999\",\n",
        "]\n",
        "\n",
        "for d in dates:\n",
        "    print(f\"{d} → {convert_date_format(d)}\")"
      ],
      "metadata": {
        "id": "1unM7Hm25dl4",
        "colab": {
          "base_uri": "https://localhost:8080/"
        },
        "outputId": "b1f6cd0a-f92c-4fb2-dad2-236c681c7e3c"
      },
      "execution_count": null,
      "outputs": [
        {
          "output_type": "stream",
          "name": "stdout",
          "text": [
            "06-05-2025 → 2025-05-06\n",
            "31-12-1999 → 1999-12-31\n"
          ]
        }
      ]
    },
    {
      "cell_type": "code",
      "source": [
        "'''26.Write a Python program to match two words from a list for words starting with 'S'.'''\n",
        "import re\n",
        "from itertools import combinations\n",
        "\n",
        "def match_s_words(word_list):\n",
        "    s_words = [word for word in word_list if re.match(r'^s', word, re.IGNORECASE)]\n",
        "    return list(combinations(s_words, 2))\n",
        "\n",
        "words = [\"Sun\", \"sky\", \"Cloud\", \"Star\", \"moon\"]\n",
        "pairs = match_s_words(words)\n",
        "print(\"Matching 'S' word pairs:\")\n",
        "for pair in pairs:\n",
        "    print(pair)"
      ],
      "metadata": {
        "colab": {
          "base_uri": "https://localhost:8080/"
        },
        "id": "Y_Y_-5uC5wyL",
        "outputId": "ec9d98ff-20b8-41e1-b97f-874fa891b1d9"
      },
      "execution_count": null,
      "outputs": [
        {
          "output_type": "stream",
          "name": "stdout",
          "text": [
            "Matching 'S' word pairs:\n",
            "('Sun', 'sky')\n",
            "('Sun', 'Star')\n",
            "('sky', 'Star')\n"
          ]
        }
      ]
    },
    {
      "cell_type": "code",
      "source": [
        "'''27.Write a Python program to separate and print numbers of a given string'''\n",
        "import re\n",
        "\n",
        "def extract_numbers(s):\n",
        "    numbers = re.findall(r'\\d+', s)\n",
        "    return numbers\n",
        "text = \"The price is 45 dollars and 10 cents\"\n",
        "print(\"Extracted numbers:\", extract_numbers(text))"
      ],
      "metadata": {
        "colab": {
          "base_uri": "https://localhost:8080/"
        },
        "id": "jUzZYsbc51Yb",
        "outputId": "999e041f-1823-4a27-87c9-7823c644b1cb"
      },
      "execution_count": null,
      "outputs": [
        {
          "output_type": "stream",
          "name": "stdout",
          "text": [
            "Extracted numbers: ['45', '10']\n"
          ]
        }
      ]
    },
    {
      "cell_type": "code",
      "source": [
        "'''28.Write a Python program to find all words starting with 'a' or 'e'''\n",
        "import re\n",
        "\n",
        "def find_words_starting_with_a_or_e(text):\n",
        "    pattern = r'\\b[aAeE]\\w*'\n",
        "    words = re.findall(pattern, text)\n",
        "    return words\n",
        "\n",
        "text = \"Eagle is a bird and Fox is an animal.\"\n",
        "print(\"Words starting with 'a' or 'e':\", find_words_starting_with_a_or_e(text))\n"
      ],
      "metadata": {
        "colab": {
          "base_uri": "https://localhost:8080/"
        },
        "id": "bjDY6ddL5657",
        "outputId": "515ee327-deed-4c1f-c6fd-31472e981b0a"
      },
      "execution_count": null,
      "outputs": [
        {
          "output_type": "stream",
          "name": "stdout",
          "text": [
            "Words starting with 'a' or 'e': ['Eagle', 'a', 'and', 'an', 'animal']\n"
          ]
        }
      ]
    },
    {
      "cell_type": "code",
      "source": [
        "'''29.Write a Python program to separate and print the numbers and their positions.'''\n",
        "import re\n",
        "\n",
        "def extract_numbers_and_positions(text):\n",
        "    matches = re.finditer(r'\\d+', text)\n",
        "    result = {match.group(): match.start() for match in matches}\n",
        "    return result\n",
        "\n",
        "text = \"There a 2 cats, 15 dogs and 100 birds.\"\n",
        "print(\"Numbers and their positions:\", extract_numbers_and_positions(text))\n"
      ],
      "metadata": {
        "colab": {
          "base_uri": "https://localhost:8080/"
        },
        "id": "Zk0zByno6C4O",
        "outputId": "b87f1920-fc45-4b14-e307-70a41977d74b"
      },
      "execution_count": null,
      "outputs": [
        {
          "output_type": "stream",
          "name": "stdout",
          "text": [
            "Numbers and their positions: {'2': 8, '15': 16, '100': 28}\n"
          ]
        }
      ]
    },
    {
      "cell_type": "code",
      "source": [
        "'''30.Write a Python program to abbrevate 'End Of Day' as 'eod'. in a given string.'''\n",
        "import re\n",
        "\n",
        "def abbreviate_end_of_day(text):\n",
        "    return re.sub(r'\\bEnd Of Day\\b', 'eod', text, flags=re.IGNORECASE)\n",
        "text = \"The Meeting is scheduled by the End Of Day\"\n",
        "result = abbreviate_end_of_day(text)\n",
        "print(\"Abbreviated Text:\", result)\n"
      ],
      "metadata": {
        "colab": {
          "base_uri": "https://localhost:8080/"
        },
        "id": "Bxf6AmnZ6H56",
        "outputId": "6c550af7-7c91-4bf1-e6dc-8c5e4e2abc91"
      },
      "execution_count": null,
      "outputs": [
        {
          "output_type": "stream",
          "name": "stdout",
          "text": [
            "Abbreviated Text: The Meeting is scheduled by the eod\n"
          ]
        }
      ]
    },
    {
      "cell_type": "code",
      "source": [],
      "metadata": {
        "id": "bPxiAZkP6z29"
      },
      "execution_count": null,
      "outputs": []
    }
  ]
}